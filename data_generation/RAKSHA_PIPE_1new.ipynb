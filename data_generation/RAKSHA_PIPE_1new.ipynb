{
 "cells": [
  {
   "cell_type": "code",
   "execution_count": 1,
   "id": "258862da",
   "metadata": {},
   "outputs": [],
   "source": [
    "import pandas as pd\n",
    "import numpy as np"
   ]
  },
  {
   "cell_type": "code",
   "execution_count": 2,
   "id": "ff750801",
   "metadata": {},
   "outputs": [
    {
     "name": "stdout",
     "output_type": "stream",
     "text": [
      "Requirement already satisfied: Faker in c:\\users\\shubh\\anaconda3\\lib\\site-packages (25.1.0)\n",
      "Requirement already satisfied: python-dateutil>=2.4 in c:\\users\\shubh\\anaconda3\\lib\\site-packages (from Faker) (2.8.2)\n",
      "Requirement already satisfied: six>=1.5 in c:\\users\\shubh\\anaconda3\\lib\\site-packages (from python-dateutil>=2.4->Faker) (1.16.0)\n",
      "Note: you may need to restart the kernel to use updated packages.\n"
     ]
    }
   ],
   "source": [
    "pip install Faker"
   ]
  },
  {
   "cell_type": "code",
   "execution_count": 4,
   "id": "cb40896d",
   "metadata": {},
   "outputs": [
    {
     "name": "stdout",
     "output_type": "stream",
     "text": [
      "    customersID                  Name  \\\n",
      "0           450          Armaan Karpe   \n",
      "1           404          Aayush Koshy   \n",
      "2           883          Lavanya Mane   \n",
      "3           746             Heer Dube   \n",
      "4           255           Ojas D’Alia   \n",
      "..          ...                   ...   \n",
      "496         029  Aniruddh Rajagopalan   \n",
      "497         129         Khushi Sekhon   \n",
      "498         268       Anahita Chander   \n",
      "499         893          Aayush Dubey   \n",
      "500         833          Lakshit Bath   \n",
      "\n",
      "                                         Address                      Email  \\\n",
      "0            H.No. 782, Ratta Road, Anand-538212    hazelrattan@example.org   \n",
      "1              00/15, Vala Street, Amroha 300127          dkaul@example.com   \n",
      "2                       27, Sangha, Malda 865137     parinaaz66@example.com   \n",
      "3         H.No. 914, Varma Ganj, Dindigul 657634    hansyakshit@example.org   \n",
      "4                  279, Vyas Marg, Guntur-425689  krishnankiaan@example.org   \n",
      "..                                           ...                        ...   \n",
      "496         234, Comar Path, Tiruvottiyur 249830       ayesha76@example.net   \n",
      "497           297, Mann Circle, Raebareli 457987       mannat04@example.com   \n",
      "498      H.No. 20, Goswami Zila, Bhatpara-811792         ukohli@example.net   \n",
      "499              80, Sunder Chowk, Bhopal-561082          msuri@example.net   \n",
      "500  H.No. 557, Mallick Circle, New Delhi 257333          pmall@example.org   \n",
      "\n",
      "      Phone Number                                Job  \\\n",
      "0       0656786913     Armed forces technical officer   \n",
      "1       8803209092                     Chief of Staff   \n",
      "2       0098155105                       Tree surgeon   \n",
      "3    +915124191325                Medical illustrator   \n",
      "4      09159102379                    Camera operator   \n",
      "..             ...                                ...   \n",
      "496  +911277378301                Associate Professor   \n",
      "497  +913512303735        Scientist, research (maths)   \n",
      "498  +911905890219               Operations geologist   \n",
      "499    06923654048  Research officer, political party   \n",
      "500     4456675479           Surveyor, land/geomatics   \n",
      "\n",
      "                         Company  \n",
      "0         Dugar, Dhawan and Bera  \n",
      "1          Rajan, Sandal and Bal  \n",
      "2    Manda, Subramaniam and Dora  \n",
      "3                   Kurian Group  \n",
      "4                     Hari-Salvi  \n",
      "..                           ...  \n",
      "496                  Sathe Group  \n",
      "497    Dewan, Salvi and Chandran  \n",
      "498                   Khanna Ltd  \n",
      "499                 Bassi-Talwar  \n",
      "500          Deo, Rana and Ratti  \n",
      "\n",
      "[501 rows x 7 columns]\n"
     ]
    }
   ],
   "source": [
    "from faker import Faker\n",
    "import pandas as pd\n",
    "from tabulate import tabulate\n",
    "\n",
    "\n",
    "# Create Faker instance\n",
    "fake = Faker(locale='EN_IN')\n",
    "\n",
    "# Generate fake data\n",
    "Customers = {\n",
    "    'customersID':[str(fake.random_number(digits=3)).zfill(3) for _ in range(501)],\n",
    "    'Name': [fake.name() for _ in range(501)],\n",
    "    'Address': [fake.address().replace('\\n', ', ') for _ in range(501)],\n",
    "    'Email': [fake.email() for _ in range(501)],\n",
    "    'Phone Number': [fake.phone_number() for _ in range(501)],\n",
    "    'Job': [fake.job() for _ in range(501)],\n",
    "    'Company': [fake.company() for _ in range(501)]\n",
    "}\n",
    "\n",
    "# Convert to DataFrame\n",
    "df = pd.DataFrame(Customers)\n",
    "\n",
    "# Output the DataFrame\n",
    "print(df)\n"
   ]
  },
  {
   "cell_type": "code",
   "execution_count": 5,
   "id": "e38c25cb",
   "metadata": {},
   "outputs": [],
   "source": [
    "df.to_csv('Customers Details.csv', index=False)"
   ]
  },
  {
   "cell_type": "code",
   "execution_count": 15,
   "id": "466a4e54",
   "metadata": {
    "scrolled": true
   },
   "outputs": [
    {
     "name": "stdout",
     "output_type": "stream",
     "text": [
      "    Shipper_ID          Product     Sizes   Price  Quantity        Date\n",
      "0          239         Fauckets    2 inch  311.42        86  2023-12-17\n",
      "1          240           Wrench  6 inches  276.84        41  2023-05-17\n",
      "2          876          Bathtub  8 inches  651.28        23  2024-01-16\n",
      "3          062  Electric Heater  4 inches  613.50        15  2024-04-23\n",
      "4          084          Toilets  6 inches  976.26        16  2023-08-13\n",
      "..         ...              ...       ...     ...       ...         ...\n",
      "995        372       Gas Heater    2 inch  729.23        36  2023-05-21\n",
      "996        542  Electric Heater  4 inches  128.74        47  2023-07-05\n",
      "997        316          Toilets    2 inch  830.57        56  2024-02-08\n",
      "998        116        PVC pipes    2 inch  317.14        85  2023-07-29\n",
      "999        154             Taps  6 inches  692.53        62  2024-04-12\n",
      "\n",
      "[1000 rows x 6 columns]\n"
     ]
    }
   ],
   "source": [
    "from faker import Faker\n",
    "import pandas as pd\n",
    "import random\n",
    "from datetime import datetime, timedelta\n",
    "\n",
    "# Create Faker instance\n",
    "fake = Faker()\n",
    "\n",
    "# Generate fake sales data\n",
    "Sale_data = {\n",
    "    'Shipper_ID':[str(fake.random_number(digits=3)).zfill(3) for _ in range(1000)],\n",
    "    'Product': [fake.random_element(elements=['Wrench','PVC pipes','Copper pipes','Galvanized steel pipes','PEX pipes','Couplings','Sinks','Toilets','Taps','Showers','Fauckets','Bathtub','Drain Cleaner', 'Drain Pipe','Water tanks','Gas Heater','Electric Heater']) for _ in range(1000)],\n",
    "    'Sizes': [fake.random_element(elements=['2 inch' ,'4 inches', '6 inches','8 inches']) for _ in range(1000)],\n",
    "    'Price': [round(random.uniform(10, 1000), 2) for _ in range(1000)],\n",
    "    'Quantity': [random.randint(1, 100) for _ in range(1000)],\n",
    "    'Date': [(datetime.now() - timedelta(days=random.randint(1, 365))).strftime('%Y-%m-%d') for _ in range(1000)]\n",
    "}\n",
    "\n",
    "# Convert to DataFrame\n",
    "df = pd.DataFrame(Sale_data)\n",
    "\n",
    "# Output the DataFrame\n",
    "print(df)\n"
   ]
  },
  {
   "cell_type": "code",
   "execution_count": 16,
   "id": "3c0ce48a",
   "metadata": {},
   "outputs": [],
   "source": [
    "df.to_csv(' Sale_year.csv', index=False)"
   ]
  },
  {
   "cell_type": "code",
   "execution_count": 17,
   "id": "3f763af9",
   "metadata": {},
   "outputs": [],
   "source": []
  },
  {
   "cell_type": "code",
   "execution_count": 18,
   "id": "664f675d",
   "metadata": {},
   "outputs": [
    {
     "name": "stdout",
     "output_type": "stream",
     "text": [
      "    Order ID Product ID Customer ID Shipper_ID  Total_order_amount  Order Date\n",
      "0        243        464         925        075              604081  2021-10-08\n",
      "1        180        863         747        630              528893  2021-07-13\n",
      "2        740        985         107        901              253286  2022-01-01\n",
      "3        241        889         617        143              274241  2022-07-21\n",
      "4        176        975         854        728              205168  2022-03-12\n",
      "..       ...        ...         ...        ...                 ...         ...\n",
      "995      306        166         129        041              885786  2022-05-06\n",
      "996      450        748         336        253              980473  2022-06-22\n",
      "997      460        274         466        029              784600  2022-08-01\n",
      "998      700        662         909        256              970548  2022-08-17\n",
      "999      512        277         347        912               98399  2023-07-15\n",
      "\n",
      "[1000 rows x 6 columns]\n"
     ]
    }
   ],
   "source": [
    "from faker import Faker\n",
    "import pandas as pd\n",
    "import random\n",
    "from datetime import datetime, timedelta\n",
    "\n",
    "# Create Faker instance\n",
    "fake = Faker()\n",
    "\n",
    "# Generate fake orders data\n",
    "Orders = {\n",
    "    'Order ID': [str(fake.random_number(digits=3)).zfill(3) for _ in range(1000)],\n",
    "    'Product ID': [str(fake.random_number(digits=3)).zfill(3) for _ in range(1000)],\n",
    "    'Customer ID': [str(fake.random_number(digits=3)).zfill(3) for _ in range(1000)],\n",
    "    'Shipper_ID':[str(fake.random_number(digits=3)).zfill(3) for _ in range(1000)],\n",
    "    'Total_order_amount': [random.randint(1, 1000000) for _ in range(1000)],\n",
    "    'Order Date': [(fake.date_between_dates('-3y','now') - timedelta(days=random.randint(1, 365))).strftime('%Y-%m-%d') for _ in range(1000)],\n",
    "    \n",
    "}\n",
    "\n",
    "# Convert to DataFrame\n",
    "df = pd.DataFrame(Orders)\n",
    "\n",
    "# Output the DataFrame\n",
    "print(df)\n"
   ]
  },
  {
   "cell_type": "code",
   "execution_count": 19,
   "id": "621b0db9",
   "metadata": {},
   "outputs": [],
   "source": [
    "df.to_csv('Orders2.csv', index=False)"
   ]
  },
  {
   "cell_type": "code",
   "execution_count": 9,
   "id": "aa34e383",
   "metadata": {},
   "outputs": [
    {
     "name": "stdout",
     "output_type": "stream",
     "text": [
      "  Category ID  Category Name\n",
      "0         778          Tools\n",
      "1         140      Drainage \n",
      "2         268  Pipe Fittings\n",
      "3         558       Cleaning\n",
      "4          11          Pipes\n",
      "5         142  Pipe Fittings\n",
      "6         483          Water\n",
      "7         839          Tools\n",
      "8         307      Drainage \n",
      "9         287          Water\n"
     ]
    }
   ],
   "source": [
    "from faker import Faker\n",
    "import pandas as pd\n",
    "\n",
    "# Create Faker instance\n",
    "fake = Faker()\n",
    "\n",
    "# Generate category data\n",
    "data = {\n",
    "    'Category ID': [str(fake.random_number(digits=3)).zfill(2) for _ in range(10)],\n",
    "    'Category Name': [fake.random_element(elements=['Pipes','Pipe Fittings','Fixatures','Cleaning','Drainage ','Water','Tools']) for _ in range(10)]\n",
    "}\n",
    "\n",
    "# Convert to DataFrame\n",
    "df = pd.DataFrame(data)\n",
    "\n",
    "# Output the DataFrame\n",
    "print(df)\n"
   ]
  },
  {
   "cell_type": "code",
   "execution_count": 10,
   "id": "cf71b121",
   "metadata": {},
   "outputs": [],
   "source": [
    "df.to_csv('Category1.csv', index=False)"
   ]
  },
  {
   "cell_type": "code",
   "execution_count": 13,
   "id": "44c7f215",
   "metadata": {},
   "outputs": [
    {
     "name": "stdout",
     "output_type": "stream",
     "text": [
      "    Order ID Product ID  Quantity  Unit Price\n",
      "0        891        972        65       24.42\n",
      "1        541        355         9       55.81\n",
      "2        396        847        65       27.95\n",
      "3        177        355       104       94.54\n",
      "4        027        204       163       92.29\n",
      "..       ...        ...       ...         ...\n",
      "495      066        462       195       16.76\n",
      "496      473        819       120       86.80\n",
      "497      604        665       154       12.49\n",
      "498      724        236        57       41.60\n",
      "499      274        882       192       39.78\n",
      "\n",
      "[500 rows x 4 columns]\n"
     ]
    }
   ],
   "source": [
    "from faker import Faker\n",
    "import pandas as pd\n",
    "import random\n",
    "\n",
    "# Create Faker instance\n",
    "fake = Faker()\n",
    "\n",
    "# Generate fake Order_Details data\n",
    "data = {\n",
    "    'Order ID': [str(fake.random_number(digits=3)).zfill(3) for _ in range(500)],\n",
    "    'Product ID': [str(fake.random_number(digits=3)).zfill(3) for _ in range(500)],\n",
    "    'Quantity': [random.randint(1, 200) for _ in range(500)],\n",
    "    'Unit Price': [round(random.uniform(10, 100), 2) for _ in range(500)]\n",
    "}\n",
    "\n",
    "# Convert to DataFrame\n",
    "df = pd.DataFrame(data)\n",
    "\n",
    "# Output the DataFrame\n",
    "print(df)\n"
   ]
  },
  {
   "cell_type": "code",
   "execution_count": 14,
   "id": "c1d96874",
   "metadata": {},
   "outputs": [],
   "source": [
    "df.to_csv('order_details1.csv', index=False)"
   ]
  },
  {
   "cell_type": "code",
   "execution_count": 15,
   "id": "9cc488ed",
   "metadata": {},
   "outputs": [
    {
     "name": "stdout",
     "output_type": "stream",
     "text": [
      "    Payment ID Order ID   Payment Type Payment Date\n",
      "0          948      655  Bank Transfer   2024-04-01\n",
      "1          176      086        PhonePe   2024-01-26\n",
      "2          670      929     Google Pay   2023-08-25\n",
      "3          001      065     Debit Card   2024-04-23\n",
      "4          408      445         PayPal   2023-07-15\n",
      "..         ...      ...            ...          ...\n",
      "995        362      865     Debit Card   2023-11-29\n",
      "996        450      226         PayPal   2023-08-20\n",
      "997        635      628         PayPal   2024-05-06\n",
      "998        460      610  Bank Transfer   2024-01-04\n",
      "999        831      736    Credit Card   2023-05-30\n",
      "\n",
      "[1000 rows x 4 columns]\n"
     ]
    }
   ],
   "source": [
    "from faker import Faker\n",
    "import pandas as pd\n",
    "import random\n",
    "from datetime import datetime, timedelta\n",
    "\n",
    "# Create Faker instance\n",
    "fake = Faker()\n",
    "\n",
    "# Generate fake Payments data\n",
    "data = {\n",
    "    'Payment ID': [str(fake.random_number(digits=3)).zfill(3) for _ in range(1000)],\n",
    "    'Order ID': [str(fake.random_number(digits=3)).zfill(3) for _ in range(1000)],\n",
    "    'Payment Type': [fake.random_element(elements=('Credit Card', 'Debit Card', 'PayPal', 'Cash','Cheque','RTGS','Bank Transfer','PhonePe','Google Pay')) for _ in range(1000)],\n",
    "    'Payment Date': [(datetime.now() - timedelta(days=random.randint(1, 365))).strftime('%Y-%m-%d') for _ in range(1000)]\n",
    "}\n",
    "\n",
    "# Convert to DataFrame\n",
    "df = pd.DataFrame(data)\n",
    "\n",
    "# Output the DataFrame\n",
    "print(df)"
   ]
  },
  {
   "cell_type": "code",
   "execution_count": 16,
   "id": "71cc6f82",
   "metadata": {},
   "outputs": [],
   "source": [
    "df.to_csv('payments1.csv', index=False)"
   ]
  },
  {
   "cell_type": "code",
   "execution_count": 2,
   "id": "848b7f2e",
   "metadata": {},
   "outputs": [
    {
     "name": "stdout",
     "output_type": "stream",
     "text": [
      "    Supplier ID Shipper_ID                Supplier Name Postal Code  \\\n",
      "0           903        967     Spencer, Ball and Garcia       62333   \n",
      "1           938        229  Carrillo, Porter and Walker       00775   \n",
      "2           638        377   Schmidt, Grant and Frazier       69909   \n",
      "3           515        742              Johnson-Johnson       90180   \n",
      "4           577        039        Hood, King and Murphy       39340   \n",
      "..          ...        ...                          ...         ...   \n",
      "495         886        068      Hicks, Rose and Collins       85388   \n",
      "496         647        983  Martinez, Murphy and Brandt       98281   \n",
      "497         822        674              Mathis and Sons       14001   \n",
      "498         392        322                    Potts PLC       65023   \n",
      "499         614        921                Hines-Webster       50389   \n",
      "\n",
      "                City                  Country          State  \\\n",
      "0            Amyport      Trinidad and Tobago  West Virginia   \n",
      "1         Port Danny                     Mali       Delaware   \n",
      "2     West Adammouth  Cocos (Keeling) Islands      Wisconsin   \n",
      "3    Fitzgeraldshire                Hong Kong      Louisiana   \n",
      "4        North David     Netherlands Antilles        Montana   \n",
      "..               ...                      ...            ...   \n",
      "495     Sampsonmouth                    Macao     California   \n",
      "496       Baileyfort                Mauritius       Missouri   \n",
      "497      Alyssashire                  Germany         Kansas   \n",
      "498     Maxwellburgh                Sri Lanka    Connecticut   \n",
      "499       Lake Doris                   Brazil         Oregon   \n",
      "\n",
      "                          Email                   Phone  \n",
      "0     gabriellahunt@example.net   +1-875-250-6120x37402  \n",
      "1            noah99@example.com        001-437-336-2911  \n",
      "2        vhenderson@example.com    001-286-203-8251x726  \n",
      "3         emcdonald@example.org            785-344-8787  \n",
      "4        cindyperez@example.com     +1-650-693-0547x020  \n",
      "..                          ...                     ...  \n",
      "495          sriggs@example.org              8583785083  \n",
      "496    timothybrown@example.org           (209)706-3161  \n",
      "497         scarter@example.net   +1-666-684-4759x05723  \n",
      "498        lauren31@example.net  001-737-220-7154x51581  \n",
      "499  buckleygregory@example.org       939.789.3489x9707  \n",
      "\n",
      "[500 rows x 9 columns]\n"
     ]
    }
   ],
   "source": [
    "from faker import Faker\n",
    "import pandas as pd\n",
    "\n",
    "# Create Faker instance\n",
    "fake = Faker()\n",
    "\n",
    "# Generate fake Suppliers data\n",
    "data = {\n",
    "    'Supplier ID': [str(fake.random_number(digits=3)).zfill(3) for _ in range(500)],\n",
    "    'Shipper_ID':[str(fake.random_number(digits=3)).zfill(3) for _ in range(500)],\n",
    "    'Supplier Name': [fake.company() for _ in range(500)],\n",
    "    'Postal Code': [fake.postalcode() for _ in range(500)],\n",
    "    'City': [fake.city() for _ in range(500)],\n",
    "    'Country': [fake.country() for _ in range(500)],\n",
    "    'State': [fake.state() for _ in range(500)],\n",
    "    'Email': [fake.email() for _ in range(500)],\n",
    "    'Phone': [fake.phone_number() for _ in range(500)]\n",
    "}\n",
    "\n",
    "# Convert to DataFrame\n",
    "df = pd.DataFrame(data)\n",
    "\n",
    "# Output the DataFrame\n",
    "print(df)"
   ]
  },
  {
   "cell_type": "code",
   "execution_count": 3,
   "id": "fce0950a",
   "metadata": {},
   "outputs": [],
   "source": [
    "df.to_csv('shippers2.csv', index=False)"
   ]
  },
  {
   "cell_type": "code",
   "execution_count": 12,
   "id": "8871820c",
   "metadata": {},
   "outputs": [
    {
     "name": "stdout",
     "output_type": "stream",
     "text": [
      "   Product ID Category ID              Product  Category  Price  \\\n",
      "0         692         491  Adjustable wrenches     Tools    472   \n",
      "1         507         705  Adjustable wrenches     Tools    633   \n",
      "2         192         217              Urinals  Fixtures     45   \n",
      "3         398         640                Sinks  Fixtures    739   \n",
      "4         175         617                 Taps  Fixtures    691   \n",
      "5         968         740               Wrench     Tools     10   \n",
      "6         661         108                 Taps  Fixtures    816   \n",
      "7         306         105  Adjustable wrenches     Tools    691   \n",
      "8         207         157            PVC pipes     Pipes    453   \n",
      "9         764         448           Gas Heater   Heaters    587   \n",
      "10        452         844           Drain Pipe  Drainage    314   \n",
      "11        710         130                Sinks  Fixtures    735   \n",
      "12        360         412          Water tanks  Drainage    604   \n",
      "13        494         519              Urinals  Fixtures    252   \n",
      "14        850         600            PEX pipes     Pipes    733   \n",
      "15        162         664          Water tanks  Drainage     15   \n",
      "16        703         378         Water meters     Other    402   \n",
      "17        536         829            PEX pipes     Pipes    895   \n",
      "18        941         364                 Taps  Fixtures    979   \n",
      "19        208         547          Water tanks  Drainage    813   \n",
      "20        748         785             Fauckets  Fixtures    305   \n",
      "\n",
      "    Stock Quantity  \n",
      "0               47  \n",
      "1              662  \n",
      "2              892  \n",
      "3               61  \n",
      "4              425  \n",
      "5              728  \n",
      "6              953  \n",
      "7              302  \n",
      "8              897  \n",
      "9              665  \n",
      "10             976  \n",
      "11             259  \n",
      "12             473  \n",
      "13             660  \n",
      "14             446  \n",
      "15             822  \n",
      "16             782  \n",
      "17             364  \n",
      "18             437  \n",
      "19              57  \n",
      "20             332  \n"
     ]
    }
   ],
   "source": [
    "import pandas as pd\n",
    "from faker import Faker\n",
    "import random\n",
    "\n",
    "# Initialize Faker\n",
    "fake = Faker()\n",
    "\n",
    "# Generate fake product table\n",
    "product_ids = [str(fake.random_number(digits=3)).zfill(3) for _ in range(21)]\n",
    "Category_ID = [str(fake.random_number(digits=3)).zfill(2) for _ in range(21)]\n",
    "products = [fake.random_element(elements=['PVC pipes', 'Copper pipes', 'Galvanized steel pipes', 'PEX pipes', 'Couplings', 'Sinks', 'Toilets', 'Taps', 'Showers', 'Fauckets', 'Bathtub', 'Drain Cleaner', 'Drain Pipe', 'Water tanks', 'Gas Heater', 'Electric Heater', 'Water meters', 'Wrench', 'Adjustable wrenches', 'Urinals']) for _ in range(21)]\n",
    "categories = ['Pipes' if product in ['PVC pipes', 'Copper pipes', 'Galvanized steel pipes', 'PEX pipes'] else\n",
    "                 'Fixtures' if product in ['Sinks', 'Toilets', 'Taps', 'Showers', 'Fauckets', 'Bathtub', 'Urinals'] else\n",
    "                 'Heaters' if product in ['Gas Heater', 'Electric Heater', 'Water Heater'] else\n",
    "                 'Pipe Fittings' if product == 'Couplings' else\n",
    "                 'Drainage' if product in ['Drain Cleaner', 'Drain Pipe', 'Water tanks'] else\n",
    "                 'Tools' if product in ['Wrench', 'Adjustable wrenches'] else\n",
    "                 'Other' for product in products]\n",
    "prices = [round(fake.random_number(digits=3), 2) for _ in range(21)]\n",
    "stock_quantity = [fake.random_int(min=0, max=1000) for _ in range(21)]\n",
    "\n",
    "# Convert to DataFrame\n",
    "df = pd.DataFrame({\n",
    "    'Product ID': product_ids,\n",
    "    'Category ID': Category_ID,\n",
    "    'Product': products,\n",
    "    'Category': categories,\n",
    "    'Price': prices,\n",
    "    'Stock Quantity': stock_quantity\n",
    "})\n",
    "\n",
    "# Output the DataFrame\n",
    "print(df)\n"
   ]
  },
  {
   "cell_type": "code",
   "execution_count": 14,
   "id": "0ac325b4",
   "metadata": {},
   "outputs": [],
   "source": [
    "df.to_csv('Products 2.csv', index=False) "
   ]
  },
  {
   "cell_type": "code",
   "execution_count": null,
   "id": "71ebf1b7",
   "metadata": {},
   "outputs": [],
   "source": []
  }
 ],
 "metadata": {
  "kernelspec": {
   "display_name": "Python 3 (ipykernel)",
   "language": "python",
   "name": "python3"
  },
  "language_info": {
   "codemirror_mode": {
    "name": "ipython",
    "version": 3
   },
   "file_extension": ".py",
   "mimetype": "text/x-python",
   "name": "python",
   "nbconvert_exporter": "python",
   "pygments_lexer": "ipython3",
   "version": "3.11.5"
  }
 },
 "nbformat": 4,
 "nbformat_minor": 5
}
